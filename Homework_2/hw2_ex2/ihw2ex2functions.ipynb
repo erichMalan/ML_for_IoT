{
 "cells": [
  {
   "cell_type": "code",
   "execution_count": 1,
   "metadata": {},
   "outputs": [],
   "source": [
    "import argparse\n",
    "import os\n",
    "import time as t\n",
    "\n",
    "import numpy as np\n",
    "import pandas as pd\n",
    "import zlib\n",
    "\n",
    "import tensorflow_model_optimization as tfmot\n",
    "import tensorflow as tf\n",
    "import tensorflow.lite as tflite\n",
    "#from tensorflow import keras\n",
    "keras = tf.keras\n",
    "\n",
    "\n",
    "# Reading arguments\n",
    "#parser = argparse.ArgumentParser()\n",
    "#parser.add_argument('--mfccs', action='store_true', help='Use MFCCs')\n",
    "#parser.add_argument('--force-first-train', action='store_true', help='Overwrite original models')\n",
    "#args = parser.parse_args()\n",
    "\n",
    "mfccs = True\n",
    "force_first_train = True\n",
    "model = 'DSCNN'\n",
    "\n",
    "\n",
    "# Setting seed for random number generation\n",
    "seed = 42\n",
    "tf.random.set_seed(seed)\n",
    "np.random.seed(seed)\n",
    "\n",
    "\n",
    "# Loading the dataset\n",
    "data_dir = os.path.join('.','data', 'mini_speech_commands')\n",
    "if not os.path.exists(data_dir):\n",
    "    zip_path = keras.utils.get_file(\n",
    "        origin='http://storage.googleapis.com/download.tensorflow.org/data/mini_speech_commands.zip',\n",
    "        fname='mini_speech_commands.zip',\n",
    "        extract=True,\n",
    "        cache_dir='.', cache_subdir='data')\n",
    "\n",
    "LABELS = np.array(tf.io.gfile.listdir(str(data_dir))) \n",
    "LABELS = LABELS[LABELS != 'README.md']\n",
    "\n",
    "class SignalGenerator:\n",
    "    def __init__(self, labels, sampling_rate=16000, frame_length=1920 , frame_step=960, num_mel_bins=40,\n",
    "                 lower_freq=20, upper_freq=48000, num_coefficients=10, mfccs=False):\n",
    "        self.frame_length = frame_length\n",
    "        self.frame_step = frame_step\n",
    "        self.num_mel_bins = num_mel_bins\n",
    "        self.mel_inputs = [num_mel_bins, None, sampling_rate, lower_freq, upper_freq]\n",
    "        self.mfccs_coeff = num_coefficients\n",
    "        self.labels=labels\n",
    "        self.sampling_rate=sampling_rate\n",
    "        num_spectrogram_bins = (frame_length) // 2 + 1\n",
    "\n",
    "        if mfccs:\n",
    "            self.l2mel_matrix = tf.signal.linear_to_mel_weight_matrix(\n",
    "                    self.num_mel_bins, num_spectrogram_bins, self.sampling_rate,\n",
    "                    lower_freq, upper_freq)\n",
    "            self.preprocess = self.preprocess_with_mfcc\n",
    "        else:\n",
    "            self.preprocess = self.preprocess_with_stft\n",
    "\n",
    "    def read(self, file_path):\n",
    "        parts = tf.strings.split(file_path, os.path.sep)\n",
    "        label = parts[-2]\n",
    "        label_id = tf.argmax(label == self.labels)\n",
    "        audio_binary = tf.io.read_file(file_path)\n",
    "        audio, _ = tf.audio.decode_wav(audio_binary)\n",
    "        audio = tf.squeeze(audio, axis=1)\n",
    "        return audio, label_id\n",
    "\n",
    "    def pad(self, audio):\n",
    "        zero_padding = tf.zeros([self.sampling_rate] - tf.shape(audio), dtype=tf.float32)\n",
    "        audio = tf.concat([audio,zero_padding],0)\n",
    "        audio.set_shape([self.sampling_rate])\n",
    "        return audio\n",
    "\n",
    "    def get_spectrogram(self, audio):\n",
    "        tfstft = tf.signal.stft(audio, frame_length=self.frame_length, frame_step=self.frame_step,fft_length=self.frame_length)\n",
    "        spectrogram = tf.abs(tfstft)\n",
    "        return spectrogram\n",
    "\n",
    "    def get_mfcc(self, spectrogram):\n",
    "        mel_spectrogram = tf.tensordot(spectrogram, self.l2mel_matrix, 1)\n",
    "        log_mel_spectrogram = tf.math.log(mel_spectrogram + 1e-6)\n",
    "        mfccs_ = tf.signal.mfccs_from_log_mel_spectrograms(log_mel_spectrogram)[..., :self.mfccs_coeff]\n",
    "        return mfccs_\n",
    "\n",
    "    def preprocess_with_stft(self, file_path):\n",
    "        audio, label = self.read(file_path)\n",
    "        audio = self.pad(audio)\n",
    "        spectrogram = self.get_spectrogram(audio)\n",
    "        spectrogram = tf.expand_dims(spectrogram, -1)\n",
    "        spectrogram = tf.image.resize(spectrogram, [32,32])\n",
    "        return spectrogram, label\n",
    "\n",
    "    def preprocess_with_mfcc(self, file_path):\n",
    "        audio, label = self.read(file_path)\n",
    "        audio = self.pad(audio)\n",
    "        spectrogram = self.get_spectrogram(audio)\n",
    "        #spectrogram = tf.expand_dims(spectrogram, -1)\n",
    "        mfccs_ = self.get_mfcc(spectrogram)\n",
    "        mfccs_ = tf.expand_dims(mfccs_, -1)\n",
    "        return mfccs_, label\n",
    "\n",
    "    def make_dataset(self, files, train):\n",
    "        ds = tf.data.Dataset.from_tensor_slices(files)\n",
    "        ds = ds.map(self.preprocess, num_parallel_calls=4)\n",
    "        ds = ds.batch(32)\n",
    "        ds = ds.cache()\n",
    "\n",
    "        if train:\n",
    "            ds = ds.shuffle(100, reshuffle_each_iteration=True)\n",
    "\n",
    "        return ds\n",
    "\n",
    "STFT_OPTIONS = {'frame_length': 256, 'frame_step': 128, 'mfccs': False}\n",
    "MFCC_OPTIONS = {'frame_length': 640, 'frame_step': 320, 'mfccs': True,\n",
    "        'lower_freq': 20, 'upper_freq': 4000, 'num_mel_bins': 40, 'num_coefficients': 10}\n",
    "\n",
    "if mfccs:\n",
    "    options = MFCC_OPTIONS\n",
    "    stride = [2, 1]\n",
    "else:\n",
    "    options = STFT_OPTIONS\n",
    "    stride = [2, 2]\n",
    "\n",
    "dataset_dir = 'data/mini_speech_commands' + (\"_mfccs\" if mfccs else \"_stft\")\n",
    "if os.path.exists(dataset_dir):\n",
    "    if mfccs:\n",
    "        tensor_specs = (\n",
    "            tf.TensorSpec([None,49,10,1],dtype=tf.float32),\n",
    "            tf.TensorSpec([None,],dtype=tf.int64)\n",
    "        )\n",
    "    else: # stft\n",
    "        tensor_specs = (\n",
    "            tf.TensorSpec([None,32,32,1],dtype=tf.float32),\n",
    "            tf.TensorSpec([None,],dtype=tf.int64)\n",
    "        )\n",
    "    \n",
    "    train_ds = tf.data.experimental.load(f'{dataset_dir}/th_train', tensor_specs)\n",
    "    val_ds = tf.data.experimental.load(f'{dataset_dir}/th_val', tensor_specs)\n",
    "    test_ds = tf.data.experimental.load(f'{dataset_dir}/th_test', tensor_specs)\n",
    "else:\n",
    "    os.mkdir(dataset_dir)\n",
    "    train_files = tf.strings.split(tf.io.read_file('./kws_train_split.txt'),sep='\\n')[:-1]\n",
    "    val_files = tf.strings.split(tf.io.read_file('./kws_val_split.txt'),sep='\\n')[:-1]\n",
    "    test_files = tf.strings.split(tf.io.read_file('./kws_test_split.txt'),sep='\\n')[:-1]\n",
    "    \n",
    "    generator = SignalGenerator(LABELS, 16000, **options)\n",
    "    train_ds = generator.make_dataset(train_files, True)\n",
    "    val_ds = generator.make_dataset(val_files, False)\n",
    "    test_ds = generator.make_dataset(test_files, False)\n",
    "    \n",
    "    tf.data.experimental.save(train_ds, f'{dataset_dir}/th_train')\n",
    "    tf.data.experimental.save(val_ds, f'{dataset_dir}/th_val')\n",
    "    tf.data.experimental.save(test_ds, f'{dataset_dir}/th_test')\n",
    "\n",
    "\n",
    "# Model definition\n",
    "models = {\n",
    "    'MLP' : keras.Sequential([\n",
    "        keras.layers.Flatten(),\n",
    "        keras.layers.Dense(units=256,activation=keras.activations.relu),\n",
    "        keras.layers.Dense(units=256,activation=keras.activations.relu),\n",
    "        keras.layers.Dense(units=256,activation=keras.activations.relu),\n",
    "        keras.layers.Dense(units=len(LABELS))\n",
    "    ]),\n",
    "    'CNN' : keras.Sequential([\n",
    "        keras.layers.Conv2D(filters=128, kernel_size=[3,3], strides = stride, use_bias=False),\n",
    "        keras.layers.BatchNormalization(momentum=0.1),\n",
    "        keras.layers.ReLU(),\n",
    "        keras.layers.Conv2D(filters=128, kernel_size=[3,3], strides = stride, use_bias=False),\n",
    "        keras.layers.BatchNormalization(momentum=0.1),\n",
    "        keras.layers.ReLU(),\n",
    "        keras.layers.Conv2D(filters=128, kernel_size=[3,3], strides = stride, use_bias=False),\n",
    "        keras.layers.BatchNormalization(momentum=0.1),\n",
    "        keras.layers.ReLU(),\n",
    "        keras.layers.GlobalAveragePooling2D(),\n",
    "        keras.layers.Dense(units=len(LABELS))\n",
    "    ]),\n",
    "    'DSCNN' : keras.Sequential([\n",
    "        keras.layers.Conv2D(filters=256, kernel_size=[3, 3], strides=stride, use_bias=False),\n",
    "        keras.layers.BatchNormalization(momentum=0.1),\n",
    "        keras.layers.ReLU(),\n",
    "        keras.layers.DepthwiseConv2D(kernel_size=[3, 3], strides=[1, 1], use_bias=False),\n",
    "        keras.layers.Conv2D(filters=256, kernel_size=[1, 1], strides=[1, 1], use_bias=False),\n",
    "        keras.layers.BatchNormalization(momentum=0.1),\n",
    "        keras.layers.ReLU(),\n",
    "        keras.layers.DepthwiseConv2D(kernel_size=[3, 3], strides=[1, 1], use_bias=False),\n",
    "        keras.layers.Conv2D(filters=256, kernel_size=[1, 1], strides=[1, 1], use_bias=False),\n",
    "        keras.layers.BatchNormalization(momentum=0.1),\n",
    "        keras.layers.ReLU(),\n",
    "        keras.layers.GlobalAveragePooling2D(),\n",
    "        keras.layers.Dense(units=len(LABELS))\n",
    "    ])\n",
    "}\n"
   ]
  },
  {
   "cell_type": "code",
   "execution_count": 3,
   "metadata": {
    "scrolled": false
   },
   "outputs": [
    {
     "name": "stdout",
     "output_type": "stream",
     "text": [
      "Epoch 1/20\n",
      "200/200 [==============================] - ETA: 0s - loss: 1.2255 - sparse_categorical_accuracy: 0.6162WARNING:tensorflow:From /home/xx1/workspaces/python/.venv/lib/python3.8/site-packages/tensorflow/python/training/tracking/tracking.py:111: Model.state_updates (from tensorflow.python.keras.engine.training) is deprecated and will be removed in a future version.\n",
      "Instructions for updating:\n",
      "This property should not be used in TensorFlow 2.0, as updates are applied automatically.\n",
      "WARNING:tensorflow:From /home/xx1/workspaces/python/.venv/lib/python3.8/site-packages/tensorflow/python/training/tracking/tracking.py:111: Layer.updates (from tensorflow.python.keras.engine.base_layer) is deprecated and will be removed in a future version.\n",
      "Instructions for updating:\n",
      "This property should not be used in TensorFlow 2.0, as updates are applied automatically.\n",
      "INFO:tensorflow:Assets written to: ./callback_test_chkp/DSCNN_mfccs_chkp_best/assets\n",
      "200/200 [==============================] - 12s 59ms/step - loss: 1.2255 - sparse_categorical_accuracy: 0.6162 - val_loss: 0.7434 - val_sparse_categorical_accuracy: 0.7812\n",
      "Epoch 2/20\n",
      "200/200 [==============================] - ETA: 0s - loss: 0.6007 - sparse_categorical_accuracy: 0.8314INFO:tensorflow:Assets written to: ./callback_test_chkp/DSCNN_mfccs_chkp_best/assets\n",
      "200/200 [==============================] - 12s 60ms/step - loss: 0.6007 - sparse_categorical_accuracy: 0.8314 - val_loss: 0.4940 - val_sparse_categorical_accuracy: 0.8537\n",
      "Epoch 3/20\n",
      "200/200 [==============================] - ETA: 0s - loss: 0.4247 - sparse_categorical_accuracy: 0.8794INFO:tensorflow:Assets written to: ./callback_test_chkp/DSCNN_mfccs_chkp_best/assets\n",
      "200/200 [==============================] - 12s 59ms/step - loss: 0.4247 - sparse_categorical_accuracy: 0.8794 - val_loss: 0.3884 - val_sparse_categorical_accuracy: 0.8850\n",
      "Epoch 4/20\n",
      "200/200 [==============================] - ETA: 0s - loss: 0.3312 - sparse_categorical_accuracy: 0.9056INFO:tensorflow:Assets written to: ./callback_test_chkp/DSCNN_mfccs_chkp_best/assets\n",
      "200/200 [==============================] - 12s 62ms/step - loss: 0.3312 - sparse_categorical_accuracy: 0.9056 - val_loss: 0.3310 - val_sparse_categorical_accuracy: 0.8963\n",
      "Epoch 5/20\n",
      "200/200 [==============================] - ETA: 0s - loss: 0.2749 - sparse_categorical_accuracy: 0.9200INFO:tensorflow:Assets written to: ./callback_test_chkp/DSCNN_mfccs_chkp_best/assets\n",
      "200/200 [==============================] - 11s 57ms/step - loss: 0.2749 - sparse_categorical_accuracy: 0.9200 - val_loss: 0.3015 - val_sparse_categorical_accuracy: 0.9038\n",
      "Epoch 6/20\n",
      "200/200 [==============================] - ETA: 0s - loss: 0.2311 - sparse_categorical_accuracy: 0.9341INFO:tensorflow:Assets written to: ./callback_test_chkp/DSCNN_mfccs_chkp_best/assets\n",
      "200/200 [==============================] - 12s 58ms/step - loss: 0.2311 - sparse_categorical_accuracy: 0.9341 - val_loss: 0.2841 - val_sparse_categorical_accuracy: 0.9100\n",
      "Epoch 7/20\n",
      "199/200 [============================>.] - ETA: 0s - loss: 0.1970 - sparse_categorical_accuracy: 0.9444INFO:tensorflow:Assets written to: ./callback_test_chkp/DSCNN_mfccs_chkp_best/assets\n",
      "200/200 [==============================] - 12s 59ms/step - loss: 0.1981 - sparse_categorical_accuracy: 0.9439 - val_loss: 0.2678 - val_sparse_categorical_accuracy: 0.9137\n",
      "Epoch 8/20\n",
      "200/200 [==============================] - 10s 52ms/step - loss: 0.1702 - sparse_categorical_accuracy: 0.9523 - val_loss: 0.2653 - val_sparse_categorical_accuracy: 0.9137\n",
      "Epoch 9/20\n",
      "200/200 [==============================] - ETA: 0s - loss: 0.1454 - sparse_categorical_accuracy: 0.9616INFO:tensorflow:Assets written to: ./callback_test_chkp/DSCNN_mfccs_chkp_best/assets\n",
      "200/200 [==============================] - 12s 58ms/step - loss: 0.1454 - sparse_categorical_accuracy: 0.9616 - val_loss: 0.2577 - val_sparse_categorical_accuracy: 0.9162\n",
      "Epoch 10/20\n",
      "200/200 [==============================] - ETA: 0s - loss: 0.1232 - sparse_categorical_accuracy: 0.9711INFO:tensorflow:Assets written to: ./callback_test_chkp/DSCNN_mfccs_chkp_best/assets\n",
      "200/200 [==============================] - 12s 59ms/step - loss: 0.1232 - sparse_categorical_accuracy: 0.9711 - val_loss: 0.2491 - val_sparse_categorical_accuracy: 0.9212\n",
      "Epoch 11/20\n",
      "200/200 [==============================] - ETA: 0s - loss: 0.1071 - sparse_categorical_accuracy: 0.9758- ETA: 3s - INFO:tensorflow:Assets written to: ./callback_test_chkp/DSCNN_mfccs_chkp_best/assets\n",
      "200/200 [==============================] - 12s 59ms/step - loss: 0.1071 - sparse_categorical_accuracy: 0.9758 - val_loss: 0.2499 - val_sparse_categorical_accuracy: 0.9225\n",
      "Epoch 12/20\n",
      "200/200 [==============================] - ETA: 0s - loss: 0.0910 - sparse_categorical_accuracy: 0.9798INFO:tensorflow:Assets written to: ./callback_test_chkp/DSCNN_mfccs_chkp_best/assets\n",
      "200/200 [==============================] - 12s 58ms/step - loss: 0.0910 - sparse_categorical_accuracy: 0.9798 - val_loss: 0.2508 - val_sparse_categorical_accuracy: 0.9250\n",
      "Epoch 13/20\n",
      "200/200 [==============================] - 11s 53ms/step - loss: 0.0827 - sparse_categorical_accuracy: 0.9814 - val_loss: 0.2641 - val_sparse_categorical_accuracy: 0.9175\n",
      "Epoch 14/20\n",
      "200/200 [==============================] - 11s 54ms/step - loss: 0.0842 - sparse_categorical_accuracy: 0.9809 - val_loss: 0.2711 - val_sparse_categorical_accuracy: 0.9225\n",
      "Epoch 15/20\n",
      "200/200 [==============================] - ETA: 0s - loss: 0.0758 - sparse_categorical_accuracy: 0.9822INFO:tensorflow:Assets written to: ./callback_test_chkp/DSCNN_mfccs_chkp_best/assets\n",
      "200/200 [==============================] - 12s 60ms/step - loss: 0.0758 - sparse_categorical_accuracy: 0.9822 - val_loss: 0.2433 - val_sparse_categorical_accuracy: 0.9325\n",
      "Epoch 16/20\n",
      "200/200 [==============================] - 11s 53ms/step - loss: 0.0621 - sparse_categorical_accuracy: 0.9862 - val_loss: 0.2601 - val_sparse_categorical_accuracy: 0.9262\n",
      "Epoch 17/20\n",
      "200/200 [==============================] - 10s 52ms/step - loss: 0.0528 - sparse_categorical_accuracy: 0.9891 - val_loss: 0.2596 - val_sparse_categorical_accuracy: 0.9200\n",
      "Epoch 18/20\n",
      "200/200 [==============================] - 11s 53ms/step - loss: 0.0495 - sparse_categorical_accuracy: 0.9887 - val_loss: 0.2623 - val_sparse_categorical_accuracy: 0.9225\n",
      "Epoch 19/20\n",
      "200/200 [==============================] - 11s 54ms/step - loss: 0.0726 - sparse_categorical_accuracy: 0.9797 - val_loss: 0.2702 - val_sparse_categorical_accuracy: 0.9250\n",
      "Epoch 20/20\n",
      "200/200 [==============================] - 11s 53ms/step - loss: 0.0711 - sparse_categorical_accuracy: 0.9816 - val_loss: 0.2639 - val_sparse_categorical_accuracy: 0.9275\n",
      "Model: \"sequential_2\"\n",
      "_________________________________________________________________\n",
      "Layer (type)                 Output Shape              Param #   \n",
      "=================================================================\n",
      "conv2d_3 (Conv2D)            (None, 24, 8, 256)        2304      \n",
      "_________________________________________________________________\n",
      "batch_normalization_3 (Batch (None, 24, 8, 256)        1024      \n",
      "_________________________________________________________________\n",
      "re_lu_3 (ReLU)               (None, 24, 8, 256)        0         \n",
      "_________________________________________________________________\n",
      "depthwise_conv2d (DepthwiseC (None, 22, 6, 256)        2304      \n",
      "_________________________________________________________________\n",
      "conv2d_4 (Conv2D)            (None, 22, 6, 256)        65536     \n",
      "_________________________________________________________________\n",
      "batch_normalization_4 (Batch (None, 22, 6, 256)        1024      \n",
      "_________________________________________________________________\n",
      "re_lu_4 (ReLU)               (None, 22, 6, 256)        0         \n",
      "_________________________________________________________________\n",
      "depthwise_conv2d_1 (Depthwis (None, 20, 4, 256)        2304      \n",
      "_________________________________________________________________\n",
      "conv2d_5 (Conv2D)            (None, 20, 4, 256)        65536     \n",
      "_________________________________________________________________\n",
      "batch_normalization_5 (Batch (None, 20, 4, 256)        1024      \n",
      "_________________________________________________________________\n",
      "re_lu_5 (ReLU)               (None, 20, 4, 256)        0         \n",
      "_________________________________________________________________\n",
      "global_average_pooling2d_1 ( (None, 256)               0         \n",
      "_________________________________________________________________\n",
      "dense_5 (Dense)              (None, 8)                 2056      \n",
      "=================================================================\n",
      "Total params: 143,112\n",
      "Trainable params: 141,576\n",
      "Non-trainable params: 1,536\n",
      "_________________________________________________________________\n"
     ]
    },
    {
     "name": "stdout",
     "output_type": "stream",
     "text": [
      "25/25 - 0s - loss: 0.2948 - sparse_categorical_accuracy: 0.9187\n",
      "\n",
      "acc: 0.918749988079071, size: 286.875kB Inference Latency 0.26122331619262695ms\n",
      "\n"
     ]
    }
   ],
   "source": [
    "# Training for the first time\n",
    "def train_model(model_name='DSCNN'):\n",
    "    callback_folder_name = f'./callback_test_chkp/{model_name}{\"_mfccs\" if mfccs else \"_stft\"}_chkp_best'\n",
    "    \n",
    "    if force_first_train or not os.path.exists(callback_folder_name):\n",
    "        model = models[model_name]\n",
    "        model.compile(\n",
    "            optimizer = 'Adam',\n",
    "            loss = keras.losses.SparseCategoricalCrossentropy(True),\n",
    "            metrics = [tf.keras.metrics.SparseCategoricalAccuracy()]\n",
    "        )\n",
    "        \n",
    "        cp_callback = keras.callbacks.ModelCheckpoint(\n",
    "            callback_folder_name,\n",
    "            monitor = 'val_sparse_categorical_accuracy',\n",
    "            verbose = 0, \n",
    "            save_best_only = True,\n",
    "            save_weights_only = False,\n",
    "            mode = 'auto',\n",
    "            save_freq = 'epoch'\n",
    "        )\n",
    "        \n",
    "        model.fit(train_ds, batch_size=32, epochs=20, validation_data=val_ds,\n",
    "                callbacks=[cp_callback])\n",
    "        model.summary()\n",
    "        \n",
    "        start = t.time()\n",
    "        test_loss, test_acc = model.evaluate(test_ds, verbose=2)\n",
    "        end = t.time() - start\n",
    "        \n",
    "        model_path = f'{callback_folder_name}/saved_model.pb'\n",
    "        msize = os.path.getsize(model_path)\n",
    "        print(f'\\nacc: {test_acc}, size: {msize/1024}kB Inference Latency {end}ms\\n')\n",
    "    else:\n",
    "        print(f'{callback_folder_name} already exists.')\n",
    "        \n",
    "    return model,callback_folder_name\n",
    "\n",
    "trained_model, trained_model_path = train_model('DSCNN')"
   ]
  },
  {
   "cell_type": "code",
   "execution_count": 14,
   "metadata": {},
   "outputs": [
    {
     "name": "stdout",
     "output_type": "stream",
     "text": [
      "Size of basic model: 555.7421875 kB\n",
      "Size of optimized model: 146.3125 kB\n",
      "Compressed: 122.3740234375 kB\n",
      "Accuracy: 0.91125\n",
      "Time: 1.548358678817749 ms\n",
      "\n",
      "\n",
      "End.\n"
     ]
    }
   ],
   "source": [
    "def generate_tflite(model_name,model_folder):\n",
    "    \n",
    "    test_ds = tf.data.experimental.load(f'{dataset_dir}/th_test', tensor_specs)\n",
    "    # Saving basic tflite model\n",
    "    test_ds = test_ds.unbatch().batch(1)\n",
    "    tflite_dirs = f'{model_folder}/tflite_models'\n",
    "    if not os.path.exists(tflite_dirs): \n",
    "        os.mkdir(tflite_dirs)\n",
    "\n",
    "    #for model_name in models:\n",
    "    basic_file = f'{tflite_dirs}/{model_name}{\"_mfccs\" if mfccs else \"_stft\"}_basic.tflite'\n",
    "    optimized_file = f'{tflite_dirs}/{model_name}{\"_mfccs\" if mfccs else \"_stft\"}_optimized.tflite'\n",
    "    compressed_file = f'{tflite_dirs}/{model_name}{\"_mfccs\" if mfccs else \"_stft\"}_compressed.tflite.zlib'\n",
    "\n",
    "    # Basic file\n",
    "    if force_first_train or not os.path.exists(basic_file):\n",
    "        with open(basic_file, 'wb') as f:\n",
    "            converter = tf.lite.TFLiteConverter.from_saved_model(model_folder)\n",
    "            tflite_model = converter.convert()\n",
    "\n",
    "            f.write(tflite_model)\n",
    "\n",
    "    tflb_size = os.path.getsize(basic_file)\n",
    "\n",
    "    # Optimized file\n",
    "    if force_first_train or not os.path.exists(optimized_file):\n",
    "        with open(optimized_file, 'wb') as f:\n",
    "            converter.optimizations = [tf.lite.Optimize.DEFAULT]\n",
    "            tflite_quant_model = converter.convert()\n",
    "\n",
    "            f.write(tflite_quant_model)\n",
    "\n",
    "    tflo_size = os.path.getsize(optimized_file)\n",
    "\n",
    "    # Compressed file\n",
    "    if force_first_train or not os.path.exists(compressed_file):\n",
    "        with open(compressed_file, 'wb') as fp:\n",
    "            tflite_compressed = zlib.compress(tflite_quant_model)\n",
    "            fp.write(tflite_compressed)\n",
    "\n",
    "    tflc_size=os.path.getsize(compressed_file)\n",
    "\n",
    "\n",
    "    # Evaluating the model\n",
    "    interpreter = tflite.Interpreter(model_path = optimized_file)\n",
    "    interpreter.allocate_tensors()\n",
    "\n",
    "    # Get input and output tensors\n",
    "    input_details = interpreter.get_input_details()\n",
    "    input_shape = input_details[0]['shape']\n",
    "    output_details = interpreter.get_output_details()\n",
    "\n",
    "    num_corr = 0\n",
    "    num = 0\n",
    "    start = t.time()\n",
    "    for input_data, label in test_ds:\n",
    "        interpreter.set_tensor(input_details[0]['index'], input_data)\n",
    "        interpreter.invoke()\n",
    "        output_data = np.argmax(interpreter.get_tensor(output_details[0]['index']))\n",
    "\n",
    "        if label.numpy()[0] == output_data:\n",
    "            num_corr += 1\n",
    "        num += 1\n",
    "\n",
    "    end = t.time() - start\n",
    "\n",
    "    # Final outputs\n",
    "    print(f'Size of basic model: {tflb_size/1024} kB')\n",
    "    print(f'Size of optimized model: {tflo_size/1024} kB')\n",
    "    print(f'Compressed: {tflc_size/1024} kB')\n",
    "    print(f'Accuracy: {num_corr/num}\\nTime: {end} ms\\n\\n')\n",
    "\n",
    "    print(\"End.\")\n",
    "    \n",
    "\n",
    "generate_tflite(model_name='DSCNN',model_folder = f'./callback_test_chkp/DSCNN{\"_mfccs\" if mfccs else \"_stft\"}_chkp_best')"
   ]
  },
  {
   "cell_type": "code",
   "execution_count": 17,
   "metadata": {},
   "outputs": [
    {
     "name": "stdout",
     "output_type": "stream",
     "text": [
      "Epoch 1/20\n",
      "200/200 [==============================] - ETA: 0s - loss: 0.0790 - sparse_categorical_accuracy: 0.9784WARNING:tensorflow:Can save best model only with val_acc available, skipping.\n"
     ]
    },
    {
     "name": "stderr",
     "output_type": "stream",
     "text": [
      "WARNING:tensorflow:Can save best model only with val_acc available, skipping.\n"
     ]
    },
    {
     "name": "stdout",
     "output_type": "stream",
     "text": [
      "200/200 [==============================] - 11s 55ms/step - loss: 0.0790 - sparse_categorical_accuracy: 0.9784 - val_loss: 0.2758 - val_sparse_categorical_accuracy: 0.9125\n",
      "Epoch 2/20\n",
      "200/200 [==============================] - ETA: 0s - loss: 0.0667 - sparse_categorical_accuracy: 0.9834WARNING:tensorflow:Can save best model only with val_acc available, skipping.\n"
     ]
    },
    {
     "name": "stderr",
     "output_type": "stream",
     "text": [
      "WARNING:tensorflow:Can save best model only with val_acc available, skipping.\n"
     ]
    },
    {
     "name": "stdout",
     "output_type": "stream",
     "text": [
      "200/200 [==============================] - 11s 54ms/step - loss: 0.0667 - sparse_categorical_accuracy: 0.9834 - val_loss: 0.2605 - val_sparse_categorical_accuracy: 0.9225\n",
      "Epoch 3/20\n",
      "200/200 [==============================] - ETA: 0s - loss: 0.0520 - sparse_categorical_accuracy: 0.9886WARNING:tensorflow:Can save best model only with val_acc available, skipping.\n"
     ]
    },
    {
     "name": "stderr",
     "output_type": "stream",
     "text": [
      "WARNING:tensorflow:Can save best model only with val_acc available, skipping.\n"
     ]
    },
    {
     "name": "stdout",
     "output_type": "stream",
     "text": [
      "200/200 [==============================] - 12s 58ms/step - loss: 0.0520 - sparse_categorical_accuracy: 0.9886 - val_loss: 0.2515 - val_sparse_categorical_accuracy: 0.9250\n",
      "Epoch 4/20\n",
      "200/200 [==============================] - ETA: 0s - loss: 0.0683 - sparse_categorical_accuracy: 0.9816WARNING:tensorflow:Can save best model only with val_acc available, skipping.\n"
     ]
    },
    {
     "name": "stderr",
     "output_type": "stream",
     "text": [
      "WARNING:tensorflow:Can save best model only with val_acc available, skipping.\n"
     ]
    },
    {
     "name": "stdout",
     "output_type": "stream",
     "text": [
      "200/200 [==============================] - 11s 57ms/step - loss: 0.0683 - sparse_categorical_accuracy: 0.9816 - val_loss: 0.2545 - val_sparse_categorical_accuracy: 0.9300\n",
      "Epoch 5/20\n",
      "200/200 [==============================] - ETA: 0s - loss: 0.0487 - sparse_categorical_accuracy: 0.9872WARNING:tensorflow:Can save best model only with val_acc available, skipping.\n"
     ]
    },
    {
     "name": "stderr",
     "output_type": "stream",
     "text": [
      "WARNING:tensorflow:Can save best model only with val_acc available, skipping.\n"
     ]
    },
    {
     "name": "stdout",
     "output_type": "stream",
     "text": [
      "200/200 [==============================] - 12s 58ms/step - loss: 0.0487 - sparse_categorical_accuracy: 0.9872 - val_loss: 0.2621 - val_sparse_categorical_accuracy: 0.9250\n",
      "Epoch 6/20\n",
      "200/200 [==============================] - ETA: 0s - loss: 0.0498 - sparse_categorical_accuracy: 0.9880WARNING:tensorflow:Can save best model only with val_acc available, skipping.\n"
     ]
    },
    {
     "name": "stderr",
     "output_type": "stream",
     "text": [
      "WARNING:tensorflow:Can save best model only with val_acc available, skipping.\n"
     ]
    },
    {
     "name": "stdout",
     "output_type": "stream",
     "text": [
      "200/200 [==============================] - 11s 56ms/step - loss: 0.0498 - sparse_categorical_accuracy: 0.9880 - val_loss: 0.2821 - val_sparse_categorical_accuracy: 0.9112\n",
      "Epoch 7/20\n",
      "200/200 [==============================] - ETA: 0s - loss: 0.0425 - sparse_categorical_accuracy: 0.9909WARNING:tensorflow:Can save best model only with val_acc available, skipping.\n"
     ]
    },
    {
     "name": "stderr",
     "output_type": "stream",
     "text": [
      "WARNING:tensorflow:Can save best model only with val_acc available, skipping.\n"
     ]
    },
    {
     "name": "stdout",
     "output_type": "stream",
     "text": [
      "200/200 [==============================] - 11s 56ms/step - loss: 0.0425 - sparse_categorical_accuracy: 0.9909 - val_loss: 0.2505 - val_sparse_categorical_accuracy: 0.9225\n",
      "Epoch 8/20\n",
      "200/200 [==============================] - ETA: 0s - loss: 0.0626 - sparse_categorical_accuracy: 0.9848WARNING:tensorflow:Can save best model only with val_acc available, skipping.\n"
     ]
    },
    {
     "name": "stderr",
     "output_type": "stream",
     "text": [
      "WARNING:tensorflow:Can save best model only with val_acc available, skipping.\n"
     ]
    },
    {
     "name": "stdout",
     "output_type": "stream",
     "text": [
      "200/200 [==============================] - 11s 55ms/step - loss: 0.0626 - sparse_categorical_accuracy: 0.9848 - val_loss: 0.2651 - val_sparse_categorical_accuracy: 0.9250\n",
      "Epoch 9/20\n",
      "200/200 [==============================] - ETA: 0s - loss: 0.0815 - sparse_categorical_accuracy: 0.9781WARNING:tensorflow:Can save best model only with val_acc available, skipping.\n"
     ]
    },
    {
     "name": "stderr",
     "output_type": "stream",
     "text": [
      "WARNING:tensorflow:Can save best model only with val_acc available, skipping.\n"
     ]
    },
    {
     "name": "stdout",
     "output_type": "stream",
     "text": [
      "200/200 [==============================] - 11s 56ms/step - loss: 0.0815 - sparse_categorical_accuracy: 0.9781 - val_loss: 0.2507 - val_sparse_categorical_accuracy: 0.9250\n",
      "Epoch 10/20\n",
      "200/200 [==============================] - ETA: 0s - loss: 0.1171 - sparse_categorical_accuracy: 0.9672WARNING:tensorflow:Can save best model only with val_acc available, skipping.\n"
     ]
    },
    {
     "name": "stderr",
     "output_type": "stream",
     "text": [
      "WARNING:tensorflow:Can save best model only with val_acc available, skipping.\n"
     ]
    },
    {
     "name": "stdout",
     "output_type": "stream",
     "text": [
      "200/200 [==============================] - 11s 55ms/step - loss: 0.1171 - sparse_categorical_accuracy: 0.9672 - val_loss: 0.2348 - val_sparse_categorical_accuracy: 0.9175\n",
      "Epoch 11/20\n",
      "200/200 [==============================] - ETA: 0s - loss: 0.1368 - sparse_categorical_accuracy: 0.9634WARNING:tensorflow:Can save best model only with val_acc available, skipping.\n"
     ]
    },
    {
     "name": "stderr",
     "output_type": "stream",
     "text": [
      "WARNING:tensorflow:Can save best model only with val_acc available, skipping.\n"
     ]
    },
    {
     "name": "stdout",
     "output_type": "stream",
     "text": [
      "200/200 [==============================] - 11s 54ms/step - loss: 0.1368 - sparse_categorical_accuracy: 0.9634 - val_loss: 0.2201 - val_sparse_categorical_accuracy: 0.9300\n",
      "Epoch 12/20\n",
      "200/200 [==============================] - ETA: 0s - loss: 0.1283 - sparse_categorical_accuracy: 0.9678WARNING:tensorflow:Can save best model only with val_acc available, skipping.\n"
     ]
    },
    {
     "name": "stderr",
     "output_type": "stream",
     "text": [
      "WARNING:tensorflow:Can save best model only with val_acc available, skipping.\n"
     ]
    },
    {
     "name": "stdout",
     "output_type": "stream",
     "text": [
      "200/200 [==============================] - 11s 56ms/step - loss: 0.1283 - sparse_categorical_accuracy: 0.9678 - val_loss: 0.2108 - val_sparse_categorical_accuracy: 0.9362\n",
      "Epoch 13/20\n",
      "200/200 [==============================] - ETA: 0s - loss: 0.1208 - sparse_categorical_accuracy: 0.9720WARNING:tensorflow:Can save best model only with val_acc available, skipping.\n"
     ]
    },
    {
     "name": "stderr",
     "output_type": "stream",
     "text": [
      "WARNING:tensorflow:Can save best model only with val_acc available, skipping.\n"
     ]
    },
    {
     "name": "stdout",
     "output_type": "stream",
     "text": [
      "200/200 [==============================] - 11s 56ms/step - loss: 0.1208 - sparse_categorical_accuracy: 0.9720 - val_loss: 0.2300 - val_sparse_categorical_accuracy: 0.9275\n",
      "Epoch 14/20\n",
      "200/200 [==============================] - ETA: 0s - loss: 0.0985 - sparse_categorical_accuracy: 0.9833WARNING:tensorflow:Can save best model only with val_acc available, skipping.\n"
     ]
    },
    {
     "name": "stderr",
     "output_type": "stream",
     "text": [
      "WARNING:tensorflow:Can save best model only with val_acc available, skipping.\n"
     ]
    },
    {
     "name": "stdout",
     "output_type": "stream",
     "text": [
      "200/200 [==============================] - 12s 58ms/step - loss: 0.0985 - sparse_categorical_accuracy: 0.9833 - val_loss: 0.2184 - val_sparse_categorical_accuracy: 0.9350\n",
      "Epoch 15/20\n",
      "200/200 [==============================] - ETA: 0s - loss: 0.0772 - sparse_categorical_accuracy: 0.9891WARNING:tensorflow:Can save best model only with val_acc available, skipping.\n"
     ]
    },
    {
     "name": "stderr",
     "output_type": "stream",
     "text": [
      "WARNING:tensorflow:Can save best model only with val_acc available, skipping.\n"
     ]
    },
    {
     "name": "stdout",
     "output_type": "stream",
     "text": [
      "200/200 [==============================] - 11s 57ms/step - loss: 0.0772 - sparse_categorical_accuracy: 0.9891 - val_loss: 0.2138 - val_sparse_categorical_accuracy: 0.9400\n",
      "Epoch 16/20\n",
      "200/200 [==============================] - ETA: 0s - loss: 0.0602 - sparse_categorical_accuracy: 0.9939WARNING:tensorflow:Can save best model only with val_acc available, skipping.\n"
     ]
    },
    {
     "name": "stderr",
     "output_type": "stream",
     "text": [
      "WARNING:tensorflow:Can save best model only with val_acc available, skipping.\n"
     ]
    },
    {
     "name": "stdout",
     "output_type": "stream",
     "text": [
      "200/200 [==============================] - 11s 55ms/step - loss: 0.0602 - sparse_categorical_accuracy: 0.9939 - val_loss: 0.2148 - val_sparse_categorical_accuracy: 0.9362\n",
      "Epoch 17/20\n",
      "200/200 [==============================] - ETA: 0s - loss: 0.0501 - sparse_categorical_accuracy: 0.9952WARNING:tensorflow:Can save best model only with val_acc available, skipping.\n"
     ]
    },
    {
     "name": "stderr",
     "output_type": "stream",
     "text": [
      "WARNING:tensorflow:Can save best model only with val_acc available, skipping.\n"
     ]
    },
    {
     "name": "stdout",
     "output_type": "stream",
     "text": [
      "200/200 [==============================] - 11s 55ms/step - loss: 0.0501 - sparse_categorical_accuracy: 0.9952 - val_loss: 0.2148 - val_sparse_categorical_accuracy: 0.9375\n",
      "Epoch 18/20\n",
      "200/200 [==============================] - ETA: 0s - loss: 0.0428 - sparse_categorical_accuracy: 0.9958WARNING:tensorflow:Can save best model only with val_acc available, skipping.\n"
     ]
    },
    {
     "name": "stderr",
     "output_type": "stream",
     "text": [
      "WARNING:tensorflow:Can save best model only with val_acc available, skipping.\n"
     ]
    },
    {
     "name": "stdout",
     "output_type": "stream",
     "text": [
      "200/200 [==============================] - 11s 57ms/step - loss: 0.0428 - sparse_categorical_accuracy: 0.9958 - val_loss: 0.2159 - val_sparse_categorical_accuracy: 0.9337\n",
      "Epoch 19/20\n",
      "200/200 [==============================] - ETA: 0s - loss: 0.0370 - sparse_categorical_accuracy: 0.9964WARNING:tensorflow:Can save best model only with val_acc available, skipping.\n"
     ]
    },
    {
     "name": "stderr",
     "output_type": "stream",
     "text": [
      "WARNING:tensorflow:Can save best model only with val_acc available, skipping.\n"
     ]
    },
    {
     "name": "stdout",
     "output_type": "stream",
     "text": [
      "200/200 [==============================] - 11s 56ms/step - loss: 0.0370 - sparse_categorical_accuracy: 0.9964 - val_loss: 0.2178 - val_sparse_categorical_accuracy: 0.9275\n",
      "Epoch 20/20\n",
      "200/200 [==============================] - ETA: 0s - loss: 0.0321 - sparse_categorical_accuracy: 0.9967WARNING:tensorflow:Can save best model only with val_acc available, skipping.\n"
     ]
    },
    {
     "name": "stderr",
     "output_type": "stream",
     "text": [
      "WARNING:tensorflow:Can save best model only with val_acc available, skipping.\n"
     ]
    },
    {
     "name": "stdout",
     "output_type": "stream",
     "text": [
      "200/200 [==============================] - 11s 56ms/step - loss: 0.0321 - sparse_categorical_accuracy: 0.9967 - val_loss: 0.2239 - val_sparse_categorical_accuracy: 0.9262\n",
      "INFO:tensorflow:Assets written to: ./stripped/DSCNN_mfccs_chkp_best/assets\n"
     ]
    },
    {
     "name": "stderr",
     "output_type": "stream",
     "text": [
      "INFO:tensorflow:Assets written to: ./stripped/DSCNN_mfccs_chkp_best/assets\n"
     ]
    },
    {
     "name": "stdout",
     "output_type": "stream",
     "text": [
      "Model: \"sequential_2\"\n",
      "_________________________________________________________________\n",
      "Layer (type)                 Output Shape              Param #   \n",
      "=================================================================\n",
      "conv2d_3 (Conv2D)            (None, 24, 8, 256)        2304      \n",
      "_________________________________________________________________\n",
      "batch_normalization_3 (Batch (None, 24, 8, 256)        1024      \n",
      "_________________________________________________________________\n",
      "re_lu_3 (ReLU)               (None, 24, 8, 256)        0         \n",
      "_________________________________________________________________\n",
      "depthwise_conv2d (DepthwiseC (None, 22, 6, 256)        2304      \n",
      "_________________________________________________________________\n",
      "conv2d_4 (Conv2D)            (None, 22, 6, 256)        65536     \n",
      "_________________________________________________________________\n",
      "batch_normalization_4 (Batch (None, 22, 6, 256)        1024      \n",
      "_________________________________________________________________\n",
      "re_lu_4 (ReLU)               (None, 22, 6, 256)        0         \n",
      "_________________________________________________________________\n",
      "depthwise_conv2d_1 (Depthwis (None, 20, 4, 256)        2304      \n",
      "_________________________________________________________________\n",
      "conv2d_5 (Conv2D)            (None, 20, 4, 256)        65536     \n",
      "_________________________________________________________________\n",
      "batch_normalization_5 (Batch (None, 20, 4, 256)        1024      \n",
      "_________________________________________________________________\n",
      "re_lu_5 (ReLU)               (None, 20, 4, 256)        0         \n",
      "_________________________________________________________________\n",
      "global_average_pooling2d_1 ( (None, 256)               0         \n",
      "_________________________________________________________________\n",
      "dense_5 (Dense)              (None, 8)                 2056      \n",
      "=================================================================\n",
      "Total params: 143,112\n",
      "Trainable params: 141,576\n",
      "Non-trainable params: 1,536\n",
      "_________________________________________________________________\n",
      "Size of basic model: 555.7421875 kB\n",
      "Size of optimized model: 146.3125 kB\n",
      "Compressed: 122.373046875 kB\n",
      "Accuracy: 0.91125\n",
      "Time: 1.7292125225067139 ms\n",
      "\n",
      "\n",
      "End.\n"
     ]
    }
   ],
   "source": [
    "\n",
    "def prune_model(model_name='DSCNN', pruning_params = None, tflite = False):\n",
    "    # Stripping the model\n",
    "    prune_low_magnitude = tfmot.sparsity.keras.prune_low_magnitude\n",
    "\n",
    "    model_folder = f'./callback_test_chkp/{model_name}{\"_mfccs\" if mfccs else \"_stft\"}_chkp_best'\n",
    "    stripped_model_folder = f'./stripped/{model_name}{\"_mfccs\" if mfccs else \"_stft\"}_chkp_best'\n",
    "\n",
    "    if force_first_train or not os.path.exists(stripped_model_folder) or True:\n",
    "        model = tf.keras.models.load_model(model_folder)\n",
    "        model = prune_low_magnitude(model, **pruning_params)\n",
    "\n",
    "        cp_callback = keras.callbacks.ModelCheckpoint(\n",
    "            f'./pruned/dscnn_chkp_best_mfccs',\n",
    "            monitor='val_acc',\n",
    "            verbose=0, \n",
    "            save_best_only=True,\n",
    "            save_weights_only=False,\n",
    "            mode='auto',\n",
    "            save_freq='epoch'\n",
    "        )\n",
    "        callbacks = [tfmot.sparsity.keras.UpdatePruningStep(), cp_callback]\n",
    "\n",
    "        input_shape = [32, 32, 32]\n",
    "        model.build(input_shape)\n",
    "        model.compile(\n",
    "            optimizer = 'Adam',\n",
    "            loss = keras.losses.SparseCategoricalCrossentropy(True),\n",
    "            metrics = [tf.keras.metrics.SparseCategoricalAccuracy()]\n",
    "        )\n",
    "\n",
    "        model.fit(train_ds, epochs=20, validation_data=val_ds, callbacks=callbacks)\n",
    "        strip_model = tfmot.sparsity.keras.strip_pruning(model)\n",
    "        strip_model.save(stripped_model_folder)\n",
    "        strip_model.summary()\n",
    "        \n",
    "        if tflite:\n",
    "            generate_tflite(model_name='DSCNN_pruned',model_folder=stripped_model_folder)\n",
    "    \n",
    "    return strip_model, stripped_model_folder\n",
    "        \n",
    "        \n",
    "\n",
    "pruning_params = {\n",
    "    'pruning_schedule' : tfmot.sparsity.keras.PolynomialDecay(\n",
    "        initial_sparsity=0, \n",
    "        final_sparsity=0.8,\n",
    "        begin_step=len(train_ds)*5,\n",
    "        end_step=len(train_ds)*15\n",
    "    )\n",
    "}\n",
    "\n",
    "strip_model, smf = prune_model('DSCNN',pruning_params,tflite=True)\n"
   ]
  },
  {
   "cell_type": "code",
   "execution_count": 18,
   "metadata": {
    "scrolled": true
   },
   "outputs": [
    {
     "name": "stdout",
     "output_type": "stream",
     "text": [
      "Size of basic model: 555.7421875 kB\n",
      "Size of optimized model: 146.3125 kB\n",
      "Compressed: 55.4091796875 kB\n",
      "Accuracy: 0.915\n",
      "Time: 1.7205476760864258 ms\n",
      "\n",
      "\n",
      "End.\n"
     ]
    }
   ],
   "source": [
    "generate_tflite('dscnn_pruned',smf)"
   ]
  },
  {
   "cell_type": "code",
   "execution_count": 20,
   "metadata": {
    "scrolled": true
   },
   "outputs": [
    {
     "name": "stdout",
     "output_type": "stream",
     "text": [
      "Epoch 1/20\n",
      "200/200 [==============================] - ETA: 0s - loss: 0.0790 - sparse_categorical_accuracy: 0.9784WARNING:tensorflow:Can save best model only with val_acc available, skipping.\n"
     ]
    },
    {
     "name": "stderr",
     "output_type": "stream",
     "text": [
      "WARNING:tensorflow:Can save best model only with val_acc available, skipping.\n"
     ]
    },
    {
     "name": "stdout",
     "output_type": "stream",
     "text": [
      "200/200 [==============================] - 11s 53ms/step - loss: 0.0790 - sparse_categorical_accuracy: 0.9784 - val_loss: 0.2758 - val_sparse_categorical_accuracy: 0.9125\n",
      "Epoch 2/20\n",
      "200/200 [==============================] - ETA: 0s - loss: 0.0667 - sparse_categorical_accuracy: 0.9834WARNING:tensorflow:Can save best model only with val_acc available, skipping.\n"
     ]
    },
    {
     "name": "stderr",
     "output_type": "stream",
     "text": [
      "WARNING:tensorflow:Can save best model only with val_acc available, skipping.\n"
     ]
    },
    {
     "name": "stdout",
     "output_type": "stream",
     "text": [
      "200/200 [==============================] - 10s 52ms/step - loss: 0.0667 - sparse_categorical_accuracy: 0.9834 - val_loss: 0.2605 - val_sparse_categorical_accuracy: 0.9225\n",
      "Epoch 3/20\n",
      "200/200 [==============================] - ETA: 0s - loss: 0.0520 - sparse_categorical_accuracy: 0.9886WARNING:tensorflow:Can save best model only with val_acc available, skipping.\n"
     ]
    },
    {
     "name": "stderr",
     "output_type": "stream",
     "text": [
      "WARNING:tensorflow:Can save best model only with val_acc available, skipping.\n"
     ]
    },
    {
     "name": "stdout",
     "output_type": "stream",
     "text": [
      "200/200 [==============================] - 10s 52ms/step - loss: 0.0520 - sparse_categorical_accuracy: 0.9886 - val_loss: 0.2515 - val_sparse_categorical_accuracy: 0.9250\n",
      "Epoch 4/20\n",
      "200/200 [==============================] - ETA: 0s - loss: 0.0683 - sparse_categorical_accuracy: 0.9816WARNING:tensorflow:Can save best model only with val_acc available, skipping.\n"
     ]
    },
    {
     "name": "stderr",
     "output_type": "stream",
     "text": [
      "WARNING:tensorflow:Can save best model only with val_acc available, skipping.\n"
     ]
    },
    {
     "name": "stdout",
     "output_type": "stream",
     "text": [
      "200/200 [==============================] - 11s 57ms/step - loss: 0.0683 - sparse_categorical_accuracy: 0.9816 - val_loss: 0.2545 - val_sparse_categorical_accuracy: 0.9300\n",
      "Epoch 5/20\n",
      "200/200 [==============================] - ETA: 0s - loss: 0.0487 - sparse_categorical_accuracy: 0.9872WARNING:tensorflow:Can save best model only with val_acc available, skipping.\n"
     ]
    },
    {
     "name": "stderr",
     "output_type": "stream",
     "text": [
      "WARNING:tensorflow:Can save best model only with val_acc available, skipping.\n"
     ]
    },
    {
     "name": "stdout",
     "output_type": "stream",
     "text": [
      "200/200 [==============================] - 11s 53ms/step - loss: 0.0487 - sparse_categorical_accuracy: 0.9872 - val_loss: 0.2621 - val_sparse_categorical_accuracy: 0.9250\n",
      "Epoch 6/20\n",
      "200/200 [==============================] - ETA: 0s - loss: 0.0502 - sparse_categorical_accuracy: 0.9880WARNING:tensorflow:Can save best model only with val_acc available, skipping.\n"
     ]
    },
    {
     "name": "stderr",
     "output_type": "stream",
     "text": [
      "WARNING:tensorflow:Can save best model only with val_acc available, skipping.\n"
     ]
    },
    {
     "name": "stdout",
     "output_type": "stream",
     "text": [
      "200/200 [==============================] - 11s 53ms/step - loss: 0.0502 - sparse_categorical_accuracy: 0.9880 - val_loss: 0.2947 - val_sparse_categorical_accuracy: 0.9087\n",
      "Epoch 7/20\n",
      "200/200 [==============================] - ETA: 0s - loss: 0.0466 - sparse_categorical_accuracy: 0.9883WARNING:tensorflow:Can save best model only with val_acc available, skipping.\n"
     ]
    },
    {
     "name": "stderr",
     "output_type": "stream",
     "text": [
      "WARNING:tensorflow:Can save best model only with val_acc available, skipping.\n"
     ]
    },
    {
     "name": "stdout",
     "output_type": "stream",
     "text": [
      "200/200 [==============================] - 11s 54ms/step - loss: 0.0466 - sparse_categorical_accuracy: 0.9883 - val_loss: 0.2343 - val_sparse_categorical_accuracy: 0.9325\n",
      "Epoch 8/20\n",
      "200/200 [==============================] - ETA: 0s - loss: 0.0809 - sparse_categorical_accuracy: 0.9786WARNING:tensorflow:Can save best model only with val_acc available, skipping.\n"
     ]
    },
    {
     "name": "stderr",
     "output_type": "stream",
     "text": [
      "WARNING:tensorflow:Can save best model only with val_acc available, skipping.\n"
     ]
    },
    {
     "name": "stdout",
     "output_type": "stream",
     "text": [
      "200/200 [==============================] - 11s 56ms/step - loss: 0.0809 - sparse_categorical_accuracy: 0.9786 - val_loss: 0.2328 - val_sparse_categorical_accuracy: 0.9337\n",
      "Epoch 9/20\n",
      "200/200 [==============================] - ETA: 0s - loss: 0.1258 - sparse_categorical_accuracy: 0.9645WARNING:tensorflow:Can save best model only with val_acc available, skipping.\n"
     ]
    },
    {
     "name": "stderr",
     "output_type": "stream",
     "text": [
      "WARNING:tensorflow:Can save best model only with val_acc available, skipping.\n"
     ]
    },
    {
     "name": "stdout",
     "output_type": "stream",
     "text": [
      "200/200 [==============================] - 11s 54ms/step - loss: 0.1258 - sparse_categorical_accuracy: 0.9645 - val_loss: 0.2401 - val_sparse_categorical_accuracy: 0.9175\n",
      "Epoch 10/20\n",
      "200/200 [==============================] - ETA: 0s - loss: 0.2457 - sparse_categorical_accuracy: 0.9253WARNING:tensorflow:Can save best model only with val_acc available, skipping.\n"
     ]
    },
    {
     "name": "stderr",
     "output_type": "stream",
     "text": [
      "WARNING:tensorflow:Can save best model only with val_acc available, skipping.\n"
     ]
    },
    {
     "name": "stdout",
     "output_type": "stream",
     "text": [
      "200/200 [==============================] - 11s 54ms/step - loss: 0.2457 - sparse_categorical_accuracy: 0.9253 - val_loss: 0.2505 - val_sparse_categorical_accuracy: 0.9200\n",
      "Epoch 11/20\n",
      "200/200 [==============================] - ETA: 0s - loss: 0.2691 - sparse_categorical_accuracy: 0.9187WARNING:tensorflow:Can save best model only with val_acc available, skipping.\n"
     ]
    },
    {
     "name": "stderr",
     "output_type": "stream",
     "text": [
      "WARNING:tensorflow:Can save best model only with val_acc available, skipping.\n"
     ]
    },
    {
     "name": "stdout",
     "output_type": "stream",
     "text": [
      "200/200 [==============================] - 11s 54ms/step - loss: 0.2691 - sparse_categorical_accuracy: 0.9187 - val_loss: 0.2504 - val_sparse_categorical_accuracy: 0.9287\n",
      "Epoch 12/20\n",
      "200/200 [==============================] - ETA: 0s - loss: 0.3482 - sparse_categorical_accuracy: 0.8967WARNING:tensorflow:Can save best model only with val_acc available, skipping.\n"
     ]
    },
    {
     "name": "stderr",
     "output_type": "stream",
     "text": [
      "WARNING:tensorflow:Can save best model only with val_acc available, skipping.\n"
     ]
    },
    {
     "name": "stdout",
     "output_type": "stream",
     "text": [
      "200/200 [==============================] - 11s 54ms/step - loss: 0.3482 - sparse_categorical_accuracy: 0.8967 - val_loss: 0.3262 - val_sparse_categorical_accuracy: 0.9000\n",
      "Epoch 13/20\n",
      "200/200 [==============================] - ETA: 0s - loss: 0.3578 - sparse_categorical_accuracy: 0.9011WARNING:tensorflow:Can save best model only with val_acc available, skipping.\n"
     ]
    },
    {
     "name": "stderr",
     "output_type": "stream",
     "text": [
      "WARNING:tensorflow:Can save best model only with val_acc available, skipping.\n"
     ]
    },
    {
     "name": "stdout",
     "output_type": "stream",
     "text": [
      "200/200 [==============================] - 11s 53ms/step - loss: 0.3578 - sparse_categorical_accuracy: 0.9011 - val_loss: 0.3357 - val_sparse_categorical_accuracy: 0.9100\n",
      "Epoch 14/20\n",
      "200/200 [==============================] - ETA: 0s - loss: 0.2976 - sparse_categorical_accuracy: 0.9248WARNING:tensorflow:Can save best model only with val_acc available, skipping.\n"
     ]
    },
    {
     "name": "stderr",
     "output_type": "stream",
     "text": [
      "WARNING:tensorflow:Can save best model only with val_acc available, skipping.\n"
     ]
    },
    {
     "name": "stdout",
     "output_type": "stream",
     "text": [
      "200/200 [==============================] - 11s 53ms/step - loss: 0.2976 - sparse_categorical_accuracy: 0.9248 - val_loss: 0.3192 - val_sparse_categorical_accuracy: 0.9112\n",
      "Epoch 15/20\n",
      "200/200 [==============================] - ETA: 0s - loss: 0.2549 - sparse_categorical_accuracy: 0.9373WARNING:tensorflow:Can save best model only with val_acc available, skipping.\n"
     ]
    },
    {
     "name": "stderr",
     "output_type": "stream",
     "text": [
      "WARNING:tensorflow:Can save best model only with val_acc available, skipping.\n"
     ]
    },
    {
     "name": "stdout",
     "output_type": "stream",
     "text": [
      "200/200 [==============================] - 11s 55ms/step - loss: 0.2549 - sparse_categorical_accuracy: 0.9373 - val_loss: 0.3024 - val_sparse_categorical_accuracy: 0.9075\n",
      "Epoch 16/20\n",
      "200/200 [==============================] - ETA: 0s - loss: 0.2224 - sparse_categorical_accuracy: 0.9423WARNING:tensorflow:Can save best model only with val_acc available, skipping.\n"
     ]
    },
    {
     "name": "stderr",
     "output_type": "stream",
     "text": [
      "WARNING:tensorflow:Can save best model only with val_acc available, skipping.\n"
     ]
    },
    {
     "name": "stdout",
     "output_type": "stream",
     "text": [
      "200/200 [==============================] - 12s 58ms/step - loss: 0.2224 - sparse_categorical_accuracy: 0.9423 - val_loss: 0.2912 - val_sparse_categorical_accuracy: 0.9125\n",
      "Epoch 17/20\n",
      "200/200 [==============================] - ETA: 0s - loss: 0.2008 - sparse_categorical_accuracy: 0.9480WARNING:tensorflow:Can save best model only with val_acc available, skipping.\n"
     ]
    },
    {
     "name": "stderr",
     "output_type": "stream",
     "text": [
      "WARNING:tensorflow:Can save best model only with val_acc available, skipping.\n"
     ]
    },
    {
     "name": "stdout",
     "output_type": "stream",
     "text": [
      "200/200 [==============================] - 11s 57ms/step - loss: 0.2008 - sparse_categorical_accuracy: 0.9480 - val_loss: 0.2817 - val_sparse_categorical_accuracy: 0.9137\n",
      "Epoch 18/20\n",
      "200/200 [==============================] - ETA: 0s - loss: 0.1839 - sparse_categorical_accuracy: 0.9550WARNING:tensorflow:Can save best model only with val_acc available, skipping.\n"
     ]
    },
    {
     "name": "stderr",
     "output_type": "stream",
     "text": [
      "WARNING:tensorflow:Can save best model only with val_acc available, skipping.\n"
     ]
    },
    {
     "name": "stdout",
     "output_type": "stream",
     "text": [
      "200/200 [==============================] - 11s 54ms/step - loss: 0.1839 - sparse_categorical_accuracy: 0.9550 - val_loss: 0.2752 - val_sparse_categorical_accuracy: 0.9137\n",
      "Epoch 19/20\n",
      "200/200 [==============================] - ETA: 0s - loss: 0.1701 - sparse_categorical_accuracy: 0.9580WARNING:tensorflow:Can save best model only with val_acc available, skipping.\n"
     ]
    },
    {
     "name": "stderr",
     "output_type": "stream",
     "text": [
      "WARNING:tensorflow:Can save best model only with val_acc available, skipping.\n"
     ]
    },
    {
     "name": "stdout",
     "output_type": "stream",
     "text": [
      "200/200 [==============================] - 11s 56ms/step - loss: 0.1701 - sparse_categorical_accuracy: 0.9580 - val_loss: 0.2709 - val_sparse_categorical_accuracy: 0.9175\n",
      "Epoch 20/20\n",
      "200/200 [==============================] - ETA: 0s - loss: 0.1578 - sparse_categorical_accuracy: 0.9628WARNING:tensorflow:Can save best model only with val_acc available, skipping.\n"
     ]
    },
    {
     "name": "stderr",
     "output_type": "stream",
     "text": [
      "WARNING:tensorflow:Can save best model only with val_acc available, skipping.\n"
     ]
    },
    {
     "name": "stdout",
     "output_type": "stream",
     "text": [
      "200/200 [==============================] - 11s 54ms/step - loss: 0.1578 - sparse_categorical_accuracy: 0.9628 - val_loss: 0.2674 - val_sparse_categorical_accuracy: 0.9150\n",
      "INFO:tensorflow:Assets written to: ./stripped/DSCNN_mfccs_chkp_best/assets\n"
     ]
    },
    {
     "name": "stderr",
     "output_type": "stream",
     "text": [
      "INFO:tensorflow:Assets written to: ./stripped/DSCNN_mfccs_chkp_best/assets\n"
     ]
    },
    {
     "name": "stdout",
     "output_type": "stream",
     "text": [
      "Model: \"sequential_2\"\n",
      "_________________________________________________________________\n",
      "Layer (type)                 Output Shape              Param #   \n",
      "=================================================================\n",
      "conv2d_3 (Conv2D)            (None, 24, 8, 256)        2304      \n",
      "_________________________________________________________________\n",
      "batch_normalization_3 (Batch (None, 24, 8, 256)        1024      \n",
      "_________________________________________________________________\n",
      "re_lu_3 (ReLU)               (None, 24, 8, 256)        0         \n",
      "_________________________________________________________________\n",
      "depthwise_conv2d (DepthwiseC (None, 22, 6, 256)        2304      \n",
      "_________________________________________________________________\n",
      "conv2d_4 (Conv2D)            (None, 22, 6, 256)        65536     \n",
      "_________________________________________________________________\n",
      "batch_normalization_4 (Batch (None, 22, 6, 256)        1024      \n",
      "_________________________________________________________________\n",
      "re_lu_4 (ReLU)               (None, 22, 6, 256)        0         \n",
      "_________________________________________________________________\n",
      "depthwise_conv2d_1 (Depthwis (None, 20, 4, 256)        2304      \n",
      "_________________________________________________________________\n",
      "conv2d_5 (Conv2D)            (None, 20, 4, 256)        65536     \n",
      "_________________________________________________________________\n",
      "batch_normalization_5 (Batch (None, 20, 4, 256)        1024      \n",
      "_________________________________________________________________\n",
      "re_lu_5 (ReLU)               (None, 20, 4, 256)        0         \n",
      "_________________________________________________________________\n",
      "global_average_pooling2d_1 ( (None, 256)               0         \n",
      "_________________________________________________________________\n",
      "dense_5 (Dense)              (None, 8)                 2056      \n",
      "=================================================================\n",
      "Total params: 143,112\n",
      "Trainable params: 141,576\n",
      "Non-trainable params: 1,536\n",
      "_________________________________________________________________\n",
      "Size of basic model: 555.7421875 kB\n",
      "Size of optimized model: 146.3125 kB\n",
      "Compressed: 122.373046875 kB\n",
      "Accuracy: 0.91125\n",
      "Time: 1.7181408405303955 ms\n",
      "\n",
      "\n",
      "End.\n",
      "Size of basic model: 555.7421875 kB\n",
      "Size of optimized model: 146.3125 kB\n",
      "Compressed: 37.4091796875 kB\n",
      "Accuracy: 0.90375\n",
      "Time: 1.6755380630493164 ms\n",
      "\n",
      "\n",
      "End.\n"
     ]
    }
   ],
   "source": [
    "pruning_params = {\n",
    "    'pruning_schedule' : tfmot.sparsity.keras.PolynomialDecay(\n",
    "        initial_sparsity=0, \n",
    "        final_sparsity=0.9,\n",
    "        begin_step=len(train_ds)*5,\n",
    "        end_step=len(train_ds)*15\n",
    "    )\n",
    "}\n",
    "\n",
    "strip_model, smf = prune_model('DSCNN',pruning_params,tflite=True)\n",
    "generate_tflite('dscnn_pruned0_9',smf)"
   ]
  },
  {
   "cell_type": "code",
   "execution_count": 21,
   "metadata": {
    "scrolled": true
   },
   "outputs": [
    {
     "name": "stdout",
     "output_type": "stream",
     "text": [
      "Epoch 1/20\n",
      "200/200 [==============================] - ETA: 0s - loss: 1.2974 - sparse_categorical_accuracy: 0.6195WARNING:tensorflow:Can save best model only with val_acc available, skipping.\n"
     ]
    },
    {
     "name": "stderr",
     "output_type": "stream",
     "text": [
      "WARNING:tensorflow:Can save best model only with val_acc available, skipping.\n"
     ]
    },
    {
     "name": "stdout",
     "output_type": "stream",
     "text": [
      "200/200 [==============================] - 11s 55ms/step - loss: 1.2974 - sparse_categorical_accuracy: 0.6195 - val_loss: 0.8838 - val_sparse_categorical_accuracy: 0.7900\n",
      "Epoch 2/20\n",
      "200/200 [==============================] - ETA: 0s - loss: 0.7570 - sparse_categorical_accuracy: 0.8213WARNING:tensorflow:Can save best model only with val_acc available, skipping.\n"
     ]
    },
    {
     "name": "stderr",
     "output_type": "stream",
     "text": [
      "WARNING:tensorflow:Can save best model only with val_acc available, skipping.\n"
     ]
    },
    {
     "name": "stdout",
     "output_type": "stream",
     "text": [
      "200/200 [==============================] - 11s 55ms/step - loss: 0.7570 - sparse_categorical_accuracy: 0.8213 - val_loss: 0.6552 - val_sparse_categorical_accuracy: 0.8413\n",
      "Epoch 3/20\n",
      "200/200 [==============================] - ETA: 0s - loss: 0.5902 - sparse_categorical_accuracy: 0.8562WARNING:tensorflow:Can save best model only with val_acc available, skipping.\n"
     ]
    },
    {
     "name": "stderr",
     "output_type": "stream",
     "text": [
      "WARNING:tensorflow:Can save best model only with val_acc available, skipping.\n"
     ]
    },
    {
     "name": "stdout",
     "output_type": "stream",
     "text": [
      "200/200 [==============================] - 12s 58ms/step - loss: 0.5902 - sparse_categorical_accuracy: 0.8562 - val_loss: 0.5511 - val_sparse_categorical_accuracy: 0.8600\n",
      "Epoch 4/20\n",
      "200/200 [==============================] - ETA: 0s - loss: 0.4975 - sparse_categorical_accuracy: 0.8770WARNING:tensorflow:Can save best model only with val_acc available, skipping.\n"
     ]
    },
    {
     "name": "stderr",
     "output_type": "stream",
     "text": [
      "WARNING:tensorflow:Can save best model only with val_acc available, skipping.\n"
     ]
    },
    {
     "name": "stdout",
     "output_type": "stream",
     "text": [
      "200/200 [==============================] - 11s 56ms/step - loss: 0.4975 - sparse_categorical_accuracy: 0.8770 - val_loss: 0.4854 - val_sparse_categorical_accuracy: 0.8712\n",
      "Epoch 5/20\n",
      "200/200 [==============================] - ETA: 0s - loss: 0.4358 - sparse_categorical_accuracy: 0.8914WARNING:tensorflow:Can save best model only with val_acc available, skipping.\n"
     ]
    },
    {
     "name": "stderr",
     "output_type": "stream",
     "text": [
      "WARNING:tensorflow:Can save best model only with val_acc available, skipping.\n"
     ]
    },
    {
     "name": "stdout",
     "output_type": "stream",
     "text": [
      "200/200 [==============================] - 11s 56ms/step - loss: 0.4358 - sparse_categorical_accuracy: 0.8914 - val_loss: 0.4418 - val_sparse_categorical_accuracy: 0.8737\n",
      "Epoch 6/20\n",
      "200/200 [==============================] - ETA: 0s - loss: 0.3910 - sparse_categorical_accuracy: 0.9019WARNING:tensorflow:Can save best model only with val_acc available, skipping.\n"
     ]
    },
    {
     "name": "stderr",
     "output_type": "stream",
     "text": [
      "WARNING:tensorflow:Can save best model only with val_acc available, skipping.\n"
     ]
    },
    {
     "name": "stdout",
     "output_type": "stream",
     "text": [
      "200/200 [==============================] - 11s 55ms/step - loss: 0.3910 - sparse_categorical_accuracy: 0.9019 - val_loss: 0.4082 - val_sparse_categorical_accuracy: 0.8775\n",
      "Epoch 7/20\n",
      "200/200 [==============================] - ETA: 0s - loss: 0.3561 - sparse_categorical_accuracy: 0.9095WARNING:tensorflow:Can save best model only with val_acc available, skipping.\n"
     ]
    },
    {
     "name": "stderr",
     "output_type": "stream",
     "text": [
      "WARNING:tensorflow:Can save best model only with val_acc available, skipping.\n"
     ]
    },
    {
     "name": "stdout",
     "output_type": "stream",
     "text": [
      "200/200 [==============================] - 11s 54ms/step - loss: 0.3561 - sparse_categorical_accuracy: 0.9095 - val_loss: 0.3843 - val_sparse_categorical_accuracy: 0.8825\n",
      "Epoch 8/20\n",
      "200/200 [==============================] - ETA: 0s - loss: 0.3277 - sparse_categorical_accuracy: 0.9148WARNING:tensorflow:Can save best model only with val_acc available, skipping.\n"
     ]
    },
    {
     "name": "stderr",
     "output_type": "stream",
     "text": [
      "WARNING:tensorflow:Can save best model only with val_acc available, skipping.\n"
     ]
    },
    {
     "name": "stdout",
     "output_type": "stream",
     "text": [
      "200/200 [==============================] - 11s 55ms/step - loss: 0.3277 - sparse_categorical_accuracy: 0.9148 - val_loss: 0.3653 - val_sparse_categorical_accuracy: 0.8850\n",
      "Epoch 9/20\n",
      "200/200 [==============================] - ETA: 0s - loss: 0.3037 - sparse_categorical_accuracy: 0.9186WARNING:tensorflow:Can save best model only with val_acc available, skipping.\n"
     ]
    },
    {
     "name": "stderr",
     "output_type": "stream",
     "text": [
      "WARNING:tensorflow:Can save best model only with val_acc available, skipping.\n"
     ]
    },
    {
     "name": "stdout",
     "output_type": "stream",
     "text": [
      "200/200 [==============================] - 11s 54ms/step - loss: 0.3037 - sparse_categorical_accuracy: 0.9186 - val_loss: 0.3524 - val_sparse_categorical_accuracy: 0.8875\n",
      "Epoch 10/20\n",
      "200/200 [==============================] - ETA: 0s - loss: 0.2829 - sparse_categorical_accuracy: 0.9231WARNING:tensorflow:Can save best model only with val_acc available, skipping.\n"
     ]
    },
    {
     "name": "stderr",
     "output_type": "stream",
     "text": [
      "WARNING:tensorflow:Can save best model only with val_acc available, skipping.\n"
     ]
    },
    {
     "name": "stdout",
     "output_type": "stream",
     "text": [
      "200/200 [==============================] - 11s 56ms/step - loss: 0.2829 - sparse_categorical_accuracy: 0.9231 - val_loss: 0.3410 - val_sparse_categorical_accuracy: 0.8913\n",
      "Epoch 11/20\n",
      "200/200 [==============================] - ETA: 0s - loss: 0.2650 - sparse_categorical_accuracy: 0.9283WARNING:tensorflow:Can save best model only with val_acc available, skipping.\n"
     ]
    },
    {
     "name": "stderr",
     "output_type": "stream",
     "text": [
      "WARNING:tensorflow:Can save best model only with val_acc available, skipping.\n"
     ]
    },
    {
     "name": "stdout",
     "output_type": "stream",
     "text": [
      "200/200 [==============================] - 11s 57ms/step - loss: 0.2650 - sparse_categorical_accuracy: 0.9283 - val_loss: 0.3333 - val_sparse_categorical_accuracy: 0.8925\n",
      "Epoch 12/20\n",
      "200/200 [==============================] - ETA: 0s - loss: 0.2489 - sparse_categorical_accuracy: 0.9339WARNING:tensorflow:Can save best model only with val_acc available, skipping.\n"
     ]
    },
    {
     "name": "stderr",
     "output_type": "stream",
     "text": [
      "WARNING:tensorflow:Can save best model only with val_acc available, skipping.\n"
     ]
    },
    {
     "name": "stdout",
     "output_type": "stream",
     "text": [
      "200/200 [==============================] - 11s 55ms/step - loss: 0.2489 - sparse_categorical_accuracy: 0.9339 - val_loss: 0.3259 - val_sparse_categorical_accuracy: 0.8938\n",
      "Epoch 13/20\n",
      "200/200 [==============================] - ETA: 0s - loss: 0.2344 - sparse_categorical_accuracy: 0.9391WARNING:tensorflow:Can save best model only with val_acc available, skipping.\n"
     ]
    },
    {
     "name": "stderr",
     "output_type": "stream",
     "text": [
      "WARNING:tensorflow:Can save best model only with val_acc available, skipping.\n"
     ]
    },
    {
     "name": "stdout",
     "output_type": "stream",
     "text": [
      "200/200 [==============================] - 11s 56ms/step - loss: 0.2344 - sparse_categorical_accuracy: 0.9391 - val_loss: 0.3181 - val_sparse_categorical_accuracy: 0.8963\n",
      "Epoch 14/20\n",
      "200/200 [==============================] - ETA: 0s - loss: 0.2211 - sparse_categorical_accuracy: 0.9427WARNING:tensorflow:Can save best model only with val_acc available, skipping.\n"
     ]
    },
    {
     "name": "stderr",
     "output_type": "stream",
     "text": [
      "WARNING:tensorflow:Can save best model only with val_acc available, skipping.\n"
     ]
    },
    {
     "name": "stdout",
     "output_type": "stream",
     "text": [
      "200/200 [==============================] - 11s 56ms/step - loss: 0.2211 - sparse_categorical_accuracy: 0.9427 - val_loss: 0.3132 - val_sparse_categorical_accuracy: 0.8988\n",
      "Epoch 15/20\n",
      "200/200 [==============================] - ETA: 0s - loss: 0.2087 - sparse_categorical_accuracy: 0.9470WARNING:tensorflow:Can save best model only with val_acc available, skipping.\n"
     ]
    },
    {
     "name": "stderr",
     "output_type": "stream",
     "text": [
      "WARNING:tensorflow:Can save best model only with val_acc available, skipping.\n"
     ]
    },
    {
     "name": "stdout",
     "output_type": "stream",
     "text": [
      "200/200 [==============================] - 12s 60ms/step - loss: 0.2087 - sparse_categorical_accuracy: 0.9470 - val_loss: 0.3093 - val_sparse_categorical_accuracy: 0.8963\n",
      "Epoch 16/20\n",
      "200/200 [==============================] - ETA: 0s - loss: 0.1974 - sparse_categorical_accuracy: 0.9505WARNING:tensorflow:Can save best model only with val_acc available, skipping.\n"
     ]
    },
    {
     "name": "stderr",
     "output_type": "stream",
     "text": [
      "WARNING:tensorflow:Can save best model only with val_acc available, skipping.\n"
     ]
    },
    {
     "name": "stdout",
     "output_type": "stream",
     "text": [
      "200/200 [==============================] - 12s 59ms/step - loss: 0.1974 - sparse_categorical_accuracy: 0.9505 - val_loss: 0.3046 - val_sparse_categorical_accuracy: 0.8975\n",
      "Epoch 17/20\n",
      "200/200 [==============================] - ETA: 0s - loss: 0.1867 - sparse_categorical_accuracy: 0.9542WARNING:tensorflow:Can save best model only with val_acc available, skipping.\n"
     ]
    },
    {
     "name": "stderr",
     "output_type": "stream",
     "text": [
      "WARNING:tensorflow:Can save best model only with val_acc available, skipping.\n"
     ]
    },
    {
     "name": "stdout",
     "output_type": "stream",
     "text": [
      "200/200 [==============================] - 12s 58ms/step - loss: 0.1867 - sparse_categorical_accuracy: 0.9542 - val_loss: 0.3024 - val_sparse_categorical_accuracy: 0.8988\n",
      "Epoch 18/20\n",
      "200/200 [==============================] - ETA: 0s - loss: 0.1773 - sparse_categorical_accuracy: 0.9559WARNING:tensorflow:Can save best model only with val_acc available, skipping.\n"
     ]
    },
    {
     "name": "stderr",
     "output_type": "stream",
     "text": [
      "WARNING:tensorflow:Can save best model only with val_acc available, skipping.\n"
     ]
    },
    {
     "name": "stdout",
     "output_type": "stream",
     "text": [
      "200/200 [==============================] - 13s 63ms/step - loss: 0.1773 - sparse_categorical_accuracy: 0.9559 - val_loss: 0.2990 - val_sparse_categorical_accuracy: 0.9013\n",
      "Epoch 19/20\n",
      "200/200 [==============================] - ETA: 0s - loss: 0.1680 - sparse_categorical_accuracy: 0.9605WARNING:tensorflow:Can save best model only with val_acc available, skipping.\n"
     ]
    },
    {
     "name": "stderr",
     "output_type": "stream",
     "text": [
      "WARNING:tensorflow:Can save best model only with val_acc available, skipping.\n"
     ]
    },
    {
     "name": "stdout",
     "output_type": "stream",
     "text": [
      "200/200 [==============================] - 13s 65ms/step - loss: 0.1680 - sparse_categorical_accuracy: 0.9605 - val_loss: 0.2959 - val_sparse_categorical_accuracy: 0.9013\n",
      "Epoch 20/20\n",
      "200/200 [==============================] - ETA: 0s - loss: 0.1597 - sparse_categorical_accuracy: 0.9625WARNING:tensorflow:Can save best model only with val_acc available, skipping.\n"
     ]
    },
    {
     "name": "stderr",
     "output_type": "stream",
     "text": [
      "WARNING:tensorflow:Can save best model only with val_acc available, skipping.\n"
     ]
    },
    {
     "name": "stdout",
     "output_type": "stream",
     "text": [
      "200/200 [==============================] - 12s 61ms/step - loss: 0.1597 - sparse_categorical_accuracy: 0.9625 - val_loss: 0.2934 - val_sparse_categorical_accuracy: 0.9050\n",
      "INFO:tensorflow:Assets written to: ./stripped/DSCNN_mfccs_chkp_best/assets\n"
     ]
    },
    {
     "name": "stderr",
     "output_type": "stream",
     "text": [
      "INFO:tensorflow:Assets written to: ./stripped/DSCNN_mfccs_chkp_best/assets\n"
     ]
    },
    {
     "name": "stdout",
     "output_type": "stream",
     "text": [
      "Model: \"sequential_2\"\n",
      "_________________________________________________________________\n",
      "Layer (type)                 Output Shape              Param #   \n",
      "=================================================================\n",
      "conv2d_3 (Conv2D)            (None, 24, 8, 256)        2304      \n",
      "_________________________________________________________________\n",
      "batch_normalization_3 (Batch (None, 24, 8, 256)        1024      \n",
      "_________________________________________________________________\n",
      "re_lu_3 (ReLU)               (None, 24, 8, 256)        0         \n",
      "_________________________________________________________________\n",
      "depthwise_conv2d (DepthwiseC (None, 22, 6, 256)        2304      \n",
      "_________________________________________________________________\n",
      "conv2d_4 (Conv2D)            (None, 22, 6, 256)        65536     \n",
      "_________________________________________________________________\n",
      "batch_normalization_4 (Batch (None, 22, 6, 256)        1024      \n",
      "_________________________________________________________________\n",
      "re_lu_4 (ReLU)               (None, 22, 6, 256)        0         \n",
      "_________________________________________________________________\n",
      "depthwise_conv2d_1 (Depthwis (None, 20, 4, 256)        2304      \n",
      "_________________________________________________________________\n",
      "conv2d_5 (Conv2D)            (None, 20, 4, 256)        65536     \n",
      "_________________________________________________________________\n",
      "batch_normalization_5 (Batch (None, 20, 4, 256)        1024      \n",
      "_________________________________________________________________\n",
      "re_lu_5 (ReLU)               (None, 20, 4, 256)        0         \n",
      "_________________________________________________________________\n",
      "global_average_pooling2d_1 ( (None, 256)               0         \n",
      "_________________________________________________________________\n",
      "dense_5 (Dense)              (None, 8)                 2056      \n",
      "=================================================================\n",
      "Total params: 143,112\n",
      "Trainable params: 141,576\n",
      "Non-trainable params: 1,536\n",
      "_________________________________________________________________\n"
     ]
    }
   ],
   "source": [
    "pruning_params = {\n",
    "    'pruning_schedule' : tfmot.sparsity.keras.ConstantSparsity(\n",
    "        target_sparsity=0.9, \n",
    "        begin_step = 0, \n",
    "        end_step=-1, \n",
    "        frequency=100\n",
    "    )\n",
    "}\n",
    "\n",
    "strip_model, smf = prune_model('DSCNN',pruning_params)"
   ]
  },
  {
   "cell_type": "code",
   "execution_count": 22,
   "metadata": {},
   "outputs": [
    {
     "name": "stdout",
     "output_type": "stream",
     "text": [
      "Size of basic model: 555.7421875 kB\n",
      "Size of optimized model: 146.3125 kB\n",
      "Compressed: 36.82421875 kB\n",
      "Accuracy: 0.8925\n",
      "Time: 2.0339112281799316 ms\n",
      "\n",
      "\n",
      "End.\n"
     ]
    }
   ],
   "source": [
    "generate_tflite('dscnn_pruned',smf)"
   ]
  }
 ],
 "metadata": {
  "kernelspec": {
   "display_name": ".venv",
   "language": "python",
   "name": ".venv"
  },
  "language_info": {
   "codemirror_mode": {
    "name": "ipython",
    "version": 3
   },
   "file_extension": ".py",
   "mimetype": "text/x-python",
   "name": "python",
   "nbconvert_exporter": "python",
   "pygments_lexer": "ipython3",
   "version": "3.8.6"
  }
 },
 "nbformat": 4,
 "nbformat_minor": 4
}